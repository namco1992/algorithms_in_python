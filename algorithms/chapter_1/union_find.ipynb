{
 "cells": [
  {
   "cell_type": "markdown",
   "metadata": {},
   "source": [
    "# Union-find 算法"
   ]
  },
  {
   "cell_type": "code",
   "execution_count": 17,
   "metadata": {
    "collapsed": false
   },
   "outputs": [
    {
     "name": "stdout",
     "output_type": "stream",
     "text": [
      "10\n",
      "[0, 1, 2, 3, 4, 5, 6, 7, 8, 9]\n"
     ]
    }
   ],
   "source": [
    "class UF(object):\n",
    "    def __init__(self, n):\n",
    "        self.id_ = [x for x in xrange(n)]\n",
    "        self.count = n\n",
    "        \n",
    "    def count(self):\n",
    "        return self.count\n",
    "    \n",
    "    def connected(self, p, q):\n",
    "        return self.find(p) == self.find(q)\n",
    "    \n",
    "    def find(self, p):\n",
    "        raise ImportError\n",
    "    \n",
    "    def union(self, p, q):\n",
    "        raise ImportError\n",
    "\n",
    "if __name__ == \"__main__\":\n",
    "    uf = UF(10)\n",
    "    print uf.count\n",
    "    print uf.id_"
   ]
  },
  {
   "cell_type": "markdown",
   "metadata": {},
   "source": [
    "在上面实现了一个基础的 UF 类，因为 UF 的 find 和 union 的实现有很多种，因此我们将 UF 作为其他具体实现方式的基类。"
   ]
  },
  {
   "cell_type": "code",
   "execution_count": 21,
   "metadata": {
    "collapsed": false
   },
   "outputs": [],
   "source": [
    "class QuickFindUF(UF):\n",
    "    def find(self, p):\n",
    "        return self.id_[p]\n",
    "    \n",
    "    def union(self, p, q):\n",
    "        p_id = self.find(p)\n",
    "        q_id = self.find(q)\n",
    "        if p_id == q_id:\n",
    "            return\n",
    "        for x in self.id_:\n",
    "            if self.id_[x] == p_id:\n",
    "                self.id_[x] = q_id\n",
    "        self.count -= 1"
   ]
  },
  {
   "cell_type": "markdown",
   "metadata": {},
   "source": [
    "简要介绍一下`quick_find`的原理。"
   ]
  },
  {
   "cell_type": "code",
   "execution_count": 22,
   "metadata": {
    "collapsed": false
   },
   "outputs": [
    {
     "name": "stdout",
     "output_type": "stream",
     "text": [
      "[0, 1, 2, 4, 4, 5, 6, 7, 8, 9]\n"
     ]
    }
   ],
   "source": [
    "uf = QuickFindUF(10)\n",
    "uf.union(3, 4)\n",
    "print uf.id_\n",
    "assert uf.id_[3] == uf.id_[4]\n",
    "assert uf.connected(3, 4) == True"
   ]
  }
 ],
 "metadata": {
  "kernelspec": {
   "display_name": "Python 2",
   "language": "python",
   "name": "python2"
  },
  "language_info": {
   "codemirror_mode": {
    "name": "ipython",
    "version": 2
   },
   "file_extension": ".py",
   "mimetype": "text/x-python",
   "name": "python",
   "nbconvert_exporter": "python",
   "pygments_lexer": "ipython2",
   "version": "2.7.10"
  }
 },
 "nbformat": 4,
 "nbformat_minor": 0
}
