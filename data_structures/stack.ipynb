{
 "cells": [
  {
   "cell_type": "markdown",
   "metadata": {},
   "source": [
    "## Stack"
   ]
  },
  {
   "cell_type": "markdown",
   "metadata": {},
   "source": [
    "可以直接使用列表来实现。\n",
    "- Stack() creates a new stack that is empty. It needs no parameters and returns an empty stack.\n",
    "- push(item) adds a new item to the top of the stack. It needs the item and returns nothing.\n",
    "- pop() removes the top item from the stack. It needs no parameters and returns the item. The stack is modified.\n",
    "- peek() returns the top item from the stack but does not remove it. It needs no parameters. The stack is not modified.\n",
    "- isEmpty() tests to see whether the stack is empty. It needs no parameters and returns a boolean value.\n",
    "- size() returns the number of items on the stack. It needs no parameters and returns an integer."
   ]
  },
  {
   "cell_type": "code",
   "execution_count": 13,
   "metadata": {
    "collapsed": false
   },
   "outputs": [
    {
     "name": "stdout",
     "output_type": "stream",
     "text": [
      "[12]\n"
     ]
    }
   ],
   "source": [
    "class Stack:\n",
    "    def __init__(self):\n",
    "        self.items = []\n",
    "\n",
    "    def isEmpty(self):\n",
    "        return self.items == []\n",
    "\n",
    "    def push(self, item):\n",
    "        self.items.append(item)\n",
    "\n",
    "    def pop(self):\n",
    "        return self.items.pop()\n",
    "\n",
    "    def peek(self):\n",
    "        return self.items[len(self.items)-1]\n",
    "\n",
    "    def size(self):\n",
    "        return len(self.items)\n",
    "\n",
    "if __name__ == '__main__':\n",
    "    stack = Stack()\n",
    "    stack.push(12)\n",
    "    print stack.items"
   ]
  },
  {
   "cell_type": "markdown",
   "metadata": {},
   "source": [
    "我们需要注意的是，在这里我们把列表的尾作为“栈顶”，因此 push 和 pop 的操作使用了列表的`append`和`pop`方法。这两个方法的时间复杂度都是 O(1)。"
   ]
  },
  {
   "cell_type": "markdown",
   "metadata": {},
   "source": [
    "小练习：string 倒转"
   ]
  },
  {
   "cell_type": "code",
   "execution_count": 15,
   "metadata": {
    "collapsed": false
   },
   "outputs": [],
   "source": [
    "def revstring(mystr):\n",
    "    # your code here\n",
    "    stack = Stack()\n",
    "    for x in mystr:\n",
    "        stack.push(x)\n",
    "    length = len(mystr)\n",
    "    reversed_str = ''\n",
    "    while not stack.isEmpty():\n",
    "        reversed_str += stack.pop()\n",
    "    return reversed_str\n",
    "\n",
    "if __name__ == '__main__':\n",
    "    assert revstring('apple') == 'elppa'"
   ]
  },
  {
   "cell_type": "markdown",
   "metadata": {},
   "source": [
    "小练习：括号匹配"
   ]
  }
 ],
 "metadata": {
  "kernelspec": {
   "display_name": "Python 2",
   "language": "python",
   "name": "python2"
  },
  "language_info": {
   "codemirror_mode": {
    "name": "ipython",
    "version": 2
   },
   "file_extension": ".py",
   "mimetype": "text/x-python",
   "name": "python",
   "nbconvert_exporter": "python",
   "pygments_lexer": "ipython2",
   "version": "2.7.11"
  }
 },
 "nbformat": 4,
 "nbformat_minor": 0
}
