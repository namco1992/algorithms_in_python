{
 "cells": [
  {
   "cell_type": "markdown",
   "metadata": {},
   "source": [
    "## Tree\n",
    "### 定义\n",
    "一棵二叉树的定义如下。`key`可以存储任意的对象，亦即每棵树也可以是其他树的子树。"
   ]
  },
  {
   "cell_type": "code",
   "execution_count": 3,
   "metadata": {
    "collapsed": false
   },
   "outputs": [
    {
     "name": "stdout",
     "output_type": "stream",
     "text": [
      "a\n",
      "None\n",
      "b\n"
     ]
    }
   ],
   "source": [
    "class BinaryTree():\n",
    "    def __init__(self, root_obj):\n",
    "        self.key = root_obj\n",
    "        self.left_child = None\n",
    "        self.right_child = None\n",
    "    \n",
    "    def insert_left(self, new_node):\n",
    "        # if the tree do not have a left child\n",
    "        # then create a node: one tree without children\n",
    "        if self.left_child is None:\n",
    "            self.left_child = BinaryTree(new_node)\n",
    "        # if there is a child, then concat the child\n",
    "        # under the node we inserted\n",
    "        else:\n",
    "            t = BinaryTree(new_node)\n",
    "            t.left_child = self.left_child\n",
    "            self.left_child = t\n",
    "\n",
    "    def insert_right(self, new_node):\n",
    "        # if the tree do not have a right child\n",
    "        # then create a node: one tree without children\n",
    "        if self.right_child is None:\n",
    "            self.right_child = BinaryTree(new_node)\n",
    "        # if there is a child, then concat the child\n",
    "        # under the node we inserted\n",
    "        else:\n",
    "            t = BinaryTree(new_node)\n",
    "            t.right_child = self.right_child\n",
    "            self.right_child = t\n",
    "    \n",
    "    def get_right_child(self):\n",
    "        return self.right_child\n",
    "    \n",
    "    def get_left_child(self):\n",
    "        return self.left_child\n",
    "    \n",
    "    def set_root(self, obj):\n",
    "        self.key = obj\n",
    "    \n",
    "    def get_root(self):\n",
    "        return self.key\n",
    "\n",
    "r = BinaryTree('a')\n",
    "print r.get_root()\n",
    "print r.get_left_child()\n",
    "r.insert_left('b')\n",
    "print r.get_left_child().get_root()\n",
    "\n",
    "\n"
   ]
  },
  {
   "cell_type": "markdown",
   "metadata": {},
   "source": [
    "### 遍历\n",
    "1. 前序\n",
    "2. 中序\n",
    "3. 后序"
   ]
  },
  {
   "cell_type": "code",
   "execution_count": 9,
   "metadata": {
    "collapsed": false
   },
   "outputs": [
    {
     "name": "stdout",
     "output_type": "stream",
     "text": [
      "root\n",
      "l2\n",
      "l1\n",
      "r3\n",
      "r2\n",
      "r1\n"
     ]
    }
   ],
   "source": [
    "def preorder(tree):\n",
    "    if tree:\n",
    "        print tree.get_root()\n",
    "        preorder(tree.get_left_child())\n",
    "        preorder(tree.get_right_child())\n",
    "\n",
    "def postorder(tree):\n",
    "    if tree:\n",
    "        postorder(tree.get_left_child())\n",
    "        postorder(tree.get_right_child())\n",
    "        print tree.get_root()\n",
    "\n",
    "def inorder(tree):\n",
    "    if tree:\n",
    "        inorder(tree.get_left_child())\n",
    "        print tree.get_root()\n",
    "        inorder(tree.get_right_child())\n",
    "\n",
    "r = BinaryTree('root')\n",
    "r.insert_left('l1')\n",
    "r.insert_left('l2')\n",
    "r.insert_right('r1')\n",
    "r.insert_right('r2')\n",
    "r.get_left_child().insert_right('r3')\n",
    "\n",
    "\n",
    "preorder(r)\n",
    "\n",
    "\n",
    "\n"
   ]
  },
  {
   "cell_type": "markdown",
   "metadata": {},
   "source": [
    "## 二叉堆实现优先队列\n",
    "\n",
    "二叉堆是队列的一种实现方式。\n",
    "\n",
    "二叉堆可以用完全二叉树来实现。所谓完全二叉树（complete binary tree），有定义如下：\n",
    "> A complete binary tree is a binary tree in which every level, except possibly the last, is completely filled, and all nodes are as far left as possible.\n",
    "除叶节点外，所有层都是填满的，叶节点则按照从左至右的顺序填满。\n",
    "\n",
    "完全二叉树的一个重要性质：\n",
    "\n",
    "当以列表表示完全二叉树时，位置 p 的父节点，其 left child 位于 2p 位置，其 right child 位于 2p+1 的位置。\n",
    "\n",
    "为了满足使用列表表示的性质，列表中第一个位置`list[0]`由 0 填充，树从`list[1]`开始。\n",
    "\n",
    "\n",
    "\n",
    "![1](http://interactivepython.org/courselib/static/pythonds/_images/heapOrder.png)\n",
    "\n",
    "\n",
    "### Operations\n",
    "- BinaryHeap() creates a new, empty, binary heap.\n",
    "- insert(k) adds a new item to the heap.\n",
    "- findMin() returns the item with the minimum key value, leaving item in the heap.\n",
    "- delMin() returns the item with the minimum key value, removing the item from the heap.\n",
    "- isEmpty() returns true if the heap is empty, false otherwise.\n",
    "- size() returns the number of items in the heap.\n",
    "- buildHeap(list) builds a new heap from a list of keys.\n"
   ]
  },
  {
   "cell_type": "code",
   "execution_count": null,
   "metadata": {
    "collapsed": true
   },
   "outputs": [],
   "source": [
    "class BinHeap(object):\n",
    "    def __init__(self):\n",
    "        self.heap_list = [0]\n",
    "        self.current_size = 0"
   ]
  },
  {
   "cell_type": "markdown",
   "metadata": {},
   "source": [
    "## 二叉搜索树 Binary Search Trees\n",
    "\n",
    "其性质与字典非常相近。\n",
    "\n",
    "### Operations\n",
    "- Map() Create a new, empty map.\n",
    "- put(key,val) Add a new key-value pair to the map. If the key is already in the map then replace the old value with the new value.\n",
    "- get(key) Given a key, return the value stored in the map or None otherwise.\n",
    "- del Delete the key-value pair from the map using a statement of the form del map[key].\n",
    "- len() Return the number of key-value pairs stored in the map.\n",
    "- in Return True for a statement of the form key in map, if the given key is in the map."
   ]
  },
  {
   "cell_type": "code",
   "execution_count": null,
   "metadata": {
    "collapsed": true
   },
   "outputs": [],
   "source": [
    "class BinarySearchTree(object):\n",
    "    def __init__(self):\n",
    "        self.root = None\n",
    "        self.size = 0\n",
    "    \n",
    "    def length(self):\n",
    "        return self.size\n",
    "    \n",
    "    def __len__(self):\n",
    "        return self.size\n",
    "    \n",
    "    def __iter__(self):\n",
    "        return self.root.__iter__()\n",
    "    \n",
    "    def put(self, key, val):\n",
    "        if self.root:\n",
    "            self._put(key, val, self.root)\n",
    "        else:\n",
    "            self.root = TreeNode(key, val)\n",
    "        self.size += 1\n",
    "    \n",
    "    def _put(key, val, current_node):\n",
    "        if key < current_node:\n",
    "            if current_node.has_left_child():\n",
    "                _put(key, val, current_node.left_child)\n",
    "            else:\n",
    "                current_node.left_child = TreeNode(key, val, parent=current_node)\n",
    "        else:\n",
    "            if current_node.has_right_child():\n",
    "                _put(key, val, current_node.right_child)\n",
    "            else:\n",
    "                current_node.right_child = TreeNode(key, val, parent=current_node)\n",
    "    \n",
    "    def __setitem__(self, k, v):\n",
    "        self.put(k, v)\n",
    "\n",
    "class TreeNode(object):\n",
    "    def __init__(self, key, val, left=None, right=None, parent=None):\n",
    "        self.key = key\n",
    "        self.payload = val\n",
    "        self.left_child = left\n",
    "        self.right_child = right\n",
    "        self.parent = parent\n",
    "    \n",
    "    def has_left_child(self):\n",
    "        return self.left_child\n",
    "    \n",
    "    def has_right_child(self):\n",
    "        return self.right_child\n",
    "    \n",
    "    def is_root(self):\n",
    "        return not self.parent\n",
    "    \n",
    "    def is_leaf(self):\n",
    "        return not (self.right_child or self.left_child)\n",
    "    \n",
    "    def has_any_children(self):\n",
    "        return self.right_child or self.left_child\n",
    "    \n",
    "    def has_both_children(self):\n",
    "        return self.right_child and self.right_child\n",
    "    \n",
    "    def replace_node_data(self, key, value, lc, rc):\n",
    "        self.key = key\n",
    "        self.payload = value\n",
    "        self.left_child = lc\n",
    "        self.right_child = rc\n",
    "        if self.has_left_child():\n",
    "            self.left_child.parent = self\n",
    "        if self.has_right_child():\n",
    "            self.right_child.parent = self\n",
    "        \n",
    "    "
   ]
  },
  {
   "cell_type": "markdown",
   "metadata": {},
   "source": [
    "### 平衡二叉搜索树 Balanced Binary Search Tree\n",
    "\n",
    "又名 AVL 树。避免出现最坏情况下 O(n) 的复杂度。AVL 的搜索复杂度稳定在 O(logN)。\n",
    "```\n",
    "balanceFactor=height(leftSubTree)−height(rightSubTree)\n",
    "```\n"
   ]
  }
 ],
 "metadata": {
  "kernelspec": {
   "display_name": "Python 2",
   "language": "python",
   "name": "python2"
  },
  "language_info": {
   "codemirror_mode": {
    "name": "ipython",
    "version": 2
   },
   "file_extension": ".py",
   "mimetype": "text/x-python",
   "name": "python",
   "nbconvert_exporter": "python",
   "pygments_lexer": "ipython2",
   "version": "2.7.11"
  }
 },
 "nbformat": 4,
 "nbformat_minor": 0
}
