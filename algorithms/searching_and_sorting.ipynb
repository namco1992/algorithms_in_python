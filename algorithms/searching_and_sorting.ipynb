{
 "cells": [
  {
   "cell_type": "markdown",
   "metadata": {},
   "source": [
    "# Searching and Sorting"
   ]
  },
  {
   "cell_type": "markdown",
   "metadata": {},
   "source": [
    "## Searching"
   ]
  },
  {
   "cell_type": "markdown",
   "metadata": {},
   "source": [
    "### 顺序查找\n",
    "#### 无序查找\n",
    "时间复杂度 O(n)。\n",
    "#### 有序查找\n",
    "时间复杂度 O(n)，平均时间复杂度 n/2。"
   ]
  },
  {
   "cell_type": "markdown",
   "metadata": {},
   "source": [
    "### 二分查找\n",
    "二分查找适用于有序列表的查找。复杂度 O(logn)。"
   ]
  },
  {
   "cell_type": "code",
   "execution_count": 7,
   "metadata": {
    "collapsed": false
   },
   "outputs": [
    {
     "name": "stdout",
     "output_type": "stream",
     "text": [
      "True\n"
     ]
    }
   ],
   "source": [
    "def binary_search(list_, item):\n",
    "    if len(list_) == 0:\n",
    "        return False\n",
    "    middle = len(list_) / 2\n",
    "    if item == list_[middle]:\n",
    "        return True\n",
    "    else:\n",
    "        if item > list_[middle]:\n",
    "            return binary_search(list_[middle+1:], item)\n",
    "        else:\n",
    "            return binary_search(list_[:middle-1], item)\n",
    "\n",
    "print binary_search([0, 1, 2, 8, 13, 17, 19, 32, 42], 32)\n",
    "    "
   ]
  },
  {
   "cell_type": "markdown",
   "metadata": {},
   "source": [
    "### hash 查找"
   ]
  },
  {
   "cell_type": "markdown",
   "metadata": {},
   "source": [
    "## Sorting\n",
    "### 冒泡排序\n",
    "时间复杂度最高的排序，存在许多冗余的交换。但是由于其比较了所有元素，可以识别已排序的列表。\n",
    "a bubble sort may have an advantage in that it will recognize the sorted list and stop. "
   ]
  },
  {
   "cell_type": "code",
   "execution_count": 8,
   "metadata": {
    "collapsed": false
   },
   "outputs": [
    {
     "name": "stdout",
     "output_type": "stream",
     "text": [
      "[17, 20, 26, 31, 44, 54, 55, 77, 93]\n"
     ]
    }
   ],
   "source": [
    "def bubble_sort(list_):\n",
    "    for passnum in range(len(alist)-1,0,-1):\n",
    "        for i in range(passnum):\n",
    "            if alist[i]>alist[i+1]:\n",
    "                temp = alist[i]\n",
    "                alist[i] = alist[i+1]\n",
    "                alist[i+1] = temp\n",
    "alist = [54,26,93,17,77,31,44,55,20]\n",
    "bubble_sort(alist)\n",
    "print(alist)"
   ]
  },
  {
   "cell_type": "markdown",
   "metadata": {},
   "source": [
    "### 选择排序"
   ]
  },
  {
   "cell_type": "code",
   "execution_count": 1,
   "metadata": {
    "collapsed": false
   },
   "outputs": [
    {
     "name": "stdout",
     "output_type": "stream",
     "text": [
      "[17, 20, 26, 31, 44, 54, 55, 77, 93]\n"
     ]
    }
   ],
   "source": [
    "def selection_sort(alist):\n",
    "    for fillslot in range(len(alist)-1,0,-1):\n",
    "        positionOfMax=0\n",
    "        for location in range(1,fillslot+1):\n",
    "            if alist[location]>alist[positionOfMax]:\n",
    "                positionOfMax = location\n",
    "\n",
    "        temp = alist[fillslot]\n",
    "        alist[fillslot] = alist[positionOfMax]\n",
    "        alist[positionOfMax] = temp\n",
    "\n",
    "alist = [54,26,93,17,77,31,44,55,20]\n",
    "selection_sort(alist)\n",
    "print(alist)"
   ]
  },
  {
   "cell_type": "markdown",
   "metadata": {},
   "source": [
    "#### 插入排序"
   ]
  },
  {
   "cell_type": "code",
   "execution_count": null,
   "metadata": {
    "collapsed": true
   },
   "outputs": [],
   "source": [
    "def insertion_sort(alist):\n",
    "    for index in range(1,len(alist)):\n",
    "\n",
    "        currentvalue = alist[index]\n",
    "        position = index\n",
    "\n",
    "        while position>0 and alist[position-1]>currentvalue:\n",
    "            alist[position]=alist[position-1]\n",
    "            position = position-1\n",
    "        alist[position]=currentvalue"
   ]
  },
  {
   "cell_type": "markdown",
   "metadata": {},
   "source": [
    "#### The Shell Sort\n",
    "与插入排序类似，但是是先将列表分割成子列表后进行插入排序，最后把排序后的子列表再进行排序。\n",
    "![shell_sort][1]\n",
    "![shell_sort][2]\n",
    "![shell_sort][3]\n",
    "\n",
    "[1]: http://interactivepython.org/runestone/static/pythonds/_images/shellsortA.png\n",
    "[2]: http://interactivepython.org/runestone/static/pythonds/_images/shellsortB.png\n",
    "[3]: http://interactivepython.org/runestone/static/pythonds/_images/shellsortC.png"
   ]
  },
  {
   "cell_type": "markdown",
   "metadata": {},
   "source": [
    "#### Merge Sort 归并排序\n",
    "典型的分治法。"
   ]
  },
  {
   "cell_type": "code",
   "execution_count": 5,
   "metadata": {
    "collapsed": false
   },
   "outputs": [
    {
     "name": "stdout",
     "output_type": "stream",
     "text": [
      "Split [54, 26, 93, 17, 77, 31, 44, 55, 20]\n",
      "Split [54, 26, 93, 17]\n",
      "Split [54, 26]\n",
      "Merging [26, 54]\n",
      "Split [93, 17]\n",
      "Merging [17, 93]\n",
      "Merging [17, 26, 54, 93]\n",
      "Split [77, 31, 44, 55, 20]\n",
      "Split [77, 31]\n",
      "Merging [31, 77]\n",
      "Split [44, 55, 20]\n",
      "Split [55, 20]\n",
      "Merging [20, 55]\n",
      "Merging [20, 44, 55]\n",
      "Merging [20, 31, 44, 55, 77]\n",
      "Merging [17, 20, 26, 31, 44, 54, 55, 77, 93]\n",
      "[17, 20, 26, 31, 44, 54, 55, 77, 93]\n"
     ]
    }
   ],
   "source": [
    "def merge_sort(alist):\n",
    "    if len(alist) > 1:\n",
    "        print \"Split\", alist\n",
    "        mid = len(alist) / 2\n",
    "        left_half = alist[:mid]\n",
    "        right_half = alist[mid:]\n",
    "        \n",
    "        merge_sort(left_half)\n",
    "        merge_sort(right_half)\n",
    "        # 简化问题\n",
    "        # 直接替换 alist 中的元素\n",
    "        i = j = k = 0\n",
    "        while i < len(left_half) and j < len(right_half):\n",
    "            if left_half[i] < right_half[j]:\n",
    "                alist[k] = left_half[i]\n",
    "                i += 1\n",
    "            else:\n",
    "                alist[k] = right_half[j]\n",
    "                j += 1\n",
    "            k += 1\n",
    "        # 将“子树”中剩余的元素填入 alist\n",
    "        while i < len(left_half):\n",
    "            alist[k]=left_half[i]\n",
    "            i += 1\n",
    "            k += 1\n",
    "\n",
    "        while j < len(right_half):\n",
    "            alist[k]=right_half[j]\n",
    "            j += 1\n",
    "            k += 1\n",
    "        print \"Merging\",alist\n",
    "alist = [54,26,93,17,77,31,44,55,20]\n",
    "merge_sort(alist)\n",
    "print(alist)"
   ]
  },
  {
   "cell_type": "markdown",
   "metadata": {},
   "source": [
    "### The Quick Sort 快速排序\n"
   ]
  },
  {
   "cell_type": "markdown",
   "metadata": {},
   "source": [
    "### 总结\n",
    "\n",
    "- A sequential search is O(n)O(n) for ordered and unordered lists.\n",
    "- A binary search of an ordered list is O(logn)O(log⁡n) in the worst case.\n",
    "- Hash tables can provide constant time searching.\n",
    "- A bubble sort, a selection sort, and an insertion sort are O(n2)O(n2) algorithms.\n",
    "- A shell sort improves on the insertion sort by sorting incremental sublists. It falls between O(n)O(n) and O(n2)O(n2).\n",
    "- A merge sort is O(nlogn)O(nlog⁡n), but requires additional space for the merging process.\n",
    "- A quick sort is O(nlogn)O(nlog⁡n), but may degrade to O(n2)O(n2) if the split points are not near the middle of the list. It does not require additional space.\n",
    "\n"
   ]
  }
 ],
 "metadata": {
  "kernelspec": {
   "display_name": "Python 2",
   "language": "python",
   "name": "python2"
  },
  "language_info": {
   "codemirror_mode": {
    "name": "ipython",
    "version": 2
   },
   "file_extension": ".py",
   "mimetype": "text/x-python",
   "name": "python",
   "nbconvert_exporter": "python",
   "pygments_lexer": "ipython2",
   "version": "2.7.11"
  }
 },
 "nbformat": 4,
 "nbformat_minor": 0
}
