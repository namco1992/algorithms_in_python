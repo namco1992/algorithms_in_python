{
 "cells": [
  {
   "cell_type": "markdown",
   "metadata": {},
   "source": [
    "## Recursion 递归"
   ]
  },
  {
   "cell_type": "markdown",
   "metadata": {},
   "source": [
    "Usually recursion involves a function calling itself. While it may not seem like much on the surface, recursion allows us to write elegant solutions to problems that may otherwise be very difficult to program.\n"
   ]
  },
  {
   "cell_type": "markdown",
   "metadata": {},
   "source": [
    "### 递归的三定律\n",
    "\n",
    "1. A recursive algorithm must have a base case.\n",
    "2. A recursive algorithm must change its state and move toward the base case.\n",
    "3. A recursive algorithm must call itself, recursively.\n",
    "\n",
    "1. base case 是指递归算法需要有一个标识终止递归的状态，避免无限递归循环下去。而这个 base case 就是一个“最小直接解决问题”的单位。\n",
    "2. 第二条定律是指每次递归都需要向 base case 更进一步。\n",
    "3. 递归必须是自我调用，这正是递归的定义。"
   ]
  },
  {
   "cell_type": "markdown",
   "metadata": {},
   "source": [
    "递归的方式反转字符串。"
   ]
  },
  {
   "cell_type": "code",
   "execution_count": 4,
   "metadata": {
    "collapsed": false
   },
   "outputs": [],
   "source": [
    "def reverse(s):\n",
    "    if len(s) == 0:  # 有一个 base case 来终止递归\n",
    "        return ''\n",
    "    else:\n",
    "        return s[-1] + reverse(s[:-1])  ## 满足第二、三条定律，每次递归都更进一步，并且是自我调用。\n",
    "\n",
    "assert reverse('apple') == 'elppa'"
   ]
  },
  {
   "cell_type": "markdown",
   "metadata": {},
   "source": [
    "检查是否为回文字符串（正序与倒序一致）。利用递归的方式。"
   ]
  },
  {
   "cell_type": "code",
   "execution_count": 8,
   "metadata": {
    "collapsed": false
   },
   "outputs": [],
   "source": [
    "import re\n",
    "\n",
    "def removeWhite(s):\n",
    "    return re.sub(r'[\\W]', '', s)\n",
    "\n",
    "def isPal(s):\n",
    "    if len(s) <= 1:\n",
    "        return True\n",
    "    else:\n",
    "        if s[0] == s[-1]:\n",
    "            return isPal(s[1:-1])\n",
    "        else:\n",
    "            return False\n",
    "\n",
    "assert isPal(removeWhite(\"x\")) is True\n",
    "assert isPal(removeWhite(\"radar\")) is True\n",
    "assert isPal(removeWhite(\"hello\"))is False\n",
    "assert isPal(removeWhite(\"\"))is True\n",
    "assert isPal(removeWhite(\"hannah\")) is True\n",
    "assert isPal(removeWhite(\"madam i'm adam\")) is True\n"
   ]
  },
  {
   "cell_type": "markdown",
   "metadata": {},
   "source": [
    "递归实际就是压栈的操作。将递归执行的函数依次压入栈中，"
   ]
  }
 ],
 "metadata": {
  "kernelspec": {
   "display_name": "Python 2",
   "language": "python",
   "name": "python2"
  },
  "language_info": {
   "codemirror_mode": {
    "name": "ipython",
    "version": 2
   },
   "file_extension": ".py",
   "mimetype": "text/x-python",
   "name": "python",
   "nbconvert_exporter": "python",
   "pygments_lexer": "ipython2",
   "version": "2.7.11"
  }
 },
 "nbformat": 4,
 "nbformat_minor": 0
}
